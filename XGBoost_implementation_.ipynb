{
  "nbformat": 4,
  "nbformat_minor": 0,
  "metadata": {
    "colab": {
      "provenance": [],
      "authorship_tag": "ABX9TyPO/FCo/zl9jp7DDL2yXRm2",
      "include_colab_link": true
    },
    "kernelspec": {
      "name": "python3",
      "display_name": "Python 3"
    },
    "language_info": {
      "name": "python"
    }
  },
  "cells": [
    {
      "cell_type": "markdown",
      "metadata": {
        "id": "view-in-github",
        "colab_type": "text"
      },
      "source": [
        "<a href=\"https://colab.research.google.com/github/Anshuman776/Machine-Learning-Project/blob/main/XGBoost_implementation_.ipynb\" target=\"_parent\"><img src=\"https://colab.research.google.com/assets/colab-badge.svg\" alt=\"Open In Colab\"/></a>"
      ]
    },
    {
      "cell_type": "code",
      "execution_count": 2,
      "metadata": {
        "id": "Tr6PUEMx6JSd"
      },
      "outputs": [],
      "source": [
        "import pandas as pd\n",
        "import numpy as np\n",
        "import seaborn as sns\n",
        "import matplotlib.pyplot as plt\n",
        "import xgboost as xgb\n",
        "from sklearn.datasets import fetch_california_housing\n",
        "from sklearn.model_selection import train_test_split\n",
        "from sklearn.metrics import mean_squared_error\n",
        "from sklearn.ensemble import RandomForestRegressor , GradientBoostingRegressor\n",
        "import warnings\n",
        "\n",
        "# ignore warnings\n",
        "warnings.filterwarnings(\"ignore\",category=DeprecationWarning)"
      ]
    },
    {
      "cell_type": "code",
      "source": [
        "# loding  and exporting the dataset\n",
        "california_housing = fetch_california_housing()\n",
        "x,y = california_housing.data, california_housing.target"
      ],
      "metadata": {
        "id": "9mphqAq-604V"
      },
      "execution_count": 3,
      "outputs": []
    },
    {
      "cell_type": "code",
      "source": [
        "# splitting the dataset\n",
        "x_train, x_test, y_tarin , y_test = train_test_split(x,y,test_size = 0.2,random_state=42)"
      ],
      "metadata": {
        "id": "szRxb3qR78pS"
      },
      "execution_count": 4,
      "outputs": []
    },
    {
      "cell_type": "code",
      "source": [
        "# initializing the model\n",
        "xgb_regressor = xgb.XGBRegressor(objective='reg:squarederror', random_state=42)\n",
        "rf_regressor = RandomForestRegressor(random_state=42)\n",
        "gb_regressor = GradientBoostingRegressor(random_state=42)"
      ],
      "metadata": {
        "id": "wZOxXoIl8OKI"
      },
      "execution_count": 5,
      "outputs": []
    },
    {
      "cell_type": "code",
      "source": [
        "# training the model\n",
        "model_xgb = xgb_regressor.fit(x_train,y_tarin)\n",
        "model_rf = rf_regressor.fit(x_train,y_tarin)\n",
        "model_gb = gb_regressor.fit(x_train,y_tarin)"
      ],
      "metadata": {
        "id": "ENnrYCXB8xJC"
      },
      "execution_count": 6,
      "outputs": []
    },
    {
      "cell_type": "code",
      "source": [
        "# making predictions\n",
        "\n",
        "y_pred_xgb = model_xgb.predict(x_test)\n",
        "y_pred_rf = model_rf.predict(x_test)\n",
        "y_pred_gb = model_gb.predict(x_test)"
      ],
      "metadata": {
        "id": "R5JQwHkH9Tin"
      },
      "execution_count": 7,
      "outputs": []
    },
    {
      "cell_type": "code",
      "source": [
        "# evaluating the model\n",
        "mse_xgb = mean_squared_error(y_test, y_pred_xgb)\n",
        "mse_rf = mean_squared_error(y_test, y_pred_rf)\n",
        "mse_gb = mean_squared_error(y_test, y_pred_gb)\n",
        "\n",
        "print(\"Mean Squared Error for XGBRegressor: \", mse_xgb)\n",
        "print(\"Mean Squared Error for RandomForestRegressor: \", mse_rf)\n",
        "print(\"Mean Squared Error for GradientBoostingRegressor: \", mse_gb)\n"
      ],
      "metadata": {
        "colab": {
          "base_uri": "https://localhost:8080/"
        },
        "id": "cj7w9zZD9jUc",
        "outputId": "599ac81a-5161-4930-db2a-d1ff51ee12bd"
      },
      "execution_count": 8,
      "outputs": [
        {
          "output_type": "stream",
          "name": "stdout",
          "text": [
            "Mean Squared Error for XGBRegressor:  0.2225899267544737\n",
            "Mean Squared Error for RandomForestRegressor:  0.2553684927247781\n",
            "Mean Squared Error for GradientBoostingRegressor:  0.2939973248643864\n"
          ]
        }
      ]
    },
    {
      "cell_type": "markdown",
      "source": [
        "i have not done the hyperparameter tuning because it was taking lot of time to run to avoid this i have not done this"
      ],
      "metadata": {
        "id": "19RZf05G9vhI"
      }
    },
    {
      "cell_type": "code",
      "source": [],
      "metadata": {
        "id": "a-qCd6oo9tYb"
      },
      "execution_count": null,
      "outputs": []
    }
  ]
}