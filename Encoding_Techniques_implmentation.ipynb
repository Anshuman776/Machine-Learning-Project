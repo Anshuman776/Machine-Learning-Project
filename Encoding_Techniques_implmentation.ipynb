{
  "nbformat": 4,
  "nbformat_minor": 0,
  "metadata": {
    "colab": {
      "provenance": [],
      "authorship_tag": "ABX9TyOHQxQuYJwvLdbJ0HDHOi2P",
      "include_colab_link": true
    },
    "kernelspec": {
      "name": "python3",
      "display_name": "Python 3"
    },
    "language_info": {
      "name": "python"
    }
  },
  "cells": [
    {
      "cell_type": "markdown",
      "metadata": {
        "id": "view-in-github",
        "colab_type": "text"
      },
      "source": [
        "<a href=\"https://colab.research.google.com/github/Anshuman776/Machine-Learning-Project/blob/main/Encoding_Techniques_implmentation.ipynb\" target=\"_parent\"><img src=\"https://colab.research.google.com/assets/colab-badge.svg\" alt=\"Open In Colab\"/></a>"
      ]
    },
    {
      "cell_type": "code",
      "execution_count": 1,
      "metadata": {
        "colab": {
          "base_uri": "https://localhost:8080/"
        },
        "id": "okgW4OkhDI0w",
        "outputId": "d71b0129-b768-4374-8bbe-c1b76a94b4c4"
      },
      "outputs": [
        {
          "output_type": "stream",
          "name": "stdout",
          "text": [
            "   Color_Blue  Color_Green  Color_Red\n",
            "0       False        False       True\n",
            "1        True        False      False\n",
            "2       False         True      False\n",
            "3        True        False      False\n",
            "4       False        False       True\n"
          ]
        }
      ],
      "source": [
        "import pandas as pd\n",
        "data={'Color':['Red','Blue','Green','Blue','Red']}\n",
        "dataframe = pd.DataFrame(data)\n",
        "\n",
        "one_hot_encoded_df = pd.get_dummies(dataframe,columns=['Color'])\n",
        "print(one_hot_encoded_df)"
      ]
    },
    {
      "cell_type": "markdown",
      "source": [
        "Dummy Varible Trap"
      ],
      "metadata": {
        "id": "qDEZmhtKE1qi"
      }
    },
    {
      "cell_type": "code",
      "source": [
        "# avoid the redundant information and get rid of the multicollinearity\n",
        "one_hot_encoded_df = pd.get_dummies(dataframe,columns=['Color'],drop_first=True)\n",
        "print(one_hot_encoded_df)\n"
      ],
      "metadata": {
        "colab": {
          "base_uri": "https://localhost:8080/"
        },
        "id": "Xjt7uNTpEKXg",
        "outputId": "34597331-35d8-469a-ea68-a96cf95e079c"
      },
      "execution_count": 2,
      "outputs": [
        {
          "output_type": "stream",
          "name": "stdout",
          "text": [
            "   Color_Green  Color_Red\n",
            "0        False       True\n",
            "1        False      False\n",
            "2         True      False\n",
            "3        False      False\n",
            "4        False       True\n"
          ]
        }
      ]
    },
    {
      "cell_type": "markdown",
      "source": [
        "**using Sklearn**"
      ],
      "metadata": {
        "id": "5AMK29jnFxGl"
      }
    },
    {
      "cell_type": "code",
      "source": [
        "import pandas as pd\n",
        "from sklearn.preprocessing import OneHotEncoder,LabelEncoder\n",
        "\n",
        "# load the dataset\n",
        "car_data = pd.read_csv(\"/content/carprices.csv\")\n",
        "# display the first few row of data to understand the its structure\n",
        "print(\"original data:\\n\",car_data.head(15))"
      ],
      "metadata": {
        "colab": {
          "base_uri": "https://localhost:8080/"
        },
        "id": "80jaBwERFr1h",
        "outputId": "63af7d5d-971f-486d-9cea-7c71c8980c95"
      },
      "execution_count": 3,
      "outputs": [
        {
          "output_type": "stream",
          "name": "stdout",
          "text": [
            "original data:\n",
            "                 Car Model  Mileage  Sell Price($)  Age(yrs)\n",
            "0                  BMW X5    69000          18000         6\n",
            "1                  BMW X5    35000          34000         3\n",
            "2                  BMW X5    57000          26100         5\n",
            "3                  BMW X5    22500          40000         2\n",
            "4                  BMW X5    46000          31500         4\n",
            "5                 Audi A5    59000          29400         5\n",
            "6                 Audi A5    52000          32000         5\n",
            "7                 Audi A5    72000          19300         6\n",
            "8                 Audi A5    91000          12000         8\n",
            "9   Mercedez Benz C class    67000          22000         6\n",
            "10  Mercedez Benz C class    83000          20000         7\n",
            "11  Mercedez Benz C class    79000          21000         7\n",
            "12  Mercedez Benz C class    59000          33000         5\n"
          ]
        }
      ]
    },
    {
      "cell_type": "code",
      "source": [
        "car_data.dtypes"
      ],
      "metadata": {
        "colab": {
          "base_uri": "https://localhost:8080/",
          "height": 209
        },
        "id": "3HxCGEVgHi2T",
        "outputId": "59882e98-8b2d-49ac-94da-6b2a4e18c709"
      },
      "execution_count": 5,
      "outputs": [
        {
          "output_type": "execute_result",
          "data": {
            "text/plain": [
              "Car Model        object\n",
              "Mileage           int64\n",
              "Sell Price($)     int64\n",
              "Age(yrs)          int64\n",
              "dtype: object"
            ],
            "text/html": [
              "<div>\n",
              "<style scoped>\n",
              "    .dataframe tbody tr th:only-of-type {\n",
              "        vertical-align: middle;\n",
              "    }\n",
              "\n",
              "    .dataframe tbody tr th {\n",
              "        vertical-align: top;\n",
              "    }\n",
              "\n",
              "    .dataframe thead th {\n",
              "        text-align: right;\n",
              "    }\n",
              "</style>\n",
              "<table border=\"1\" class=\"dataframe\">\n",
              "  <thead>\n",
              "    <tr style=\"text-align: right;\">\n",
              "      <th></th>\n",
              "      <th>0</th>\n",
              "    </tr>\n",
              "  </thead>\n",
              "  <tbody>\n",
              "    <tr>\n",
              "      <th>Car Model</th>\n",
              "      <td>object</td>\n",
              "    </tr>\n",
              "    <tr>\n",
              "      <th>Mileage</th>\n",
              "      <td>int64</td>\n",
              "    </tr>\n",
              "    <tr>\n",
              "      <th>Sell Price($)</th>\n",
              "      <td>int64</td>\n",
              "    </tr>\n",
              "    <tr>\n",
              "      <th>Age(yrs)</th>\n",
              "      <td>int64</td>\n",
              "    </tr>\n",
              "  </tbody>\n",
              "</table>\n",
              "</div><br><label><b>dtype:</b> object</label>"
            ]
          },
          "metadata": {},
          "execution_count": 5
        }
      ]
    },
    {
      "cell_type": "code",
      "source": [
        "car_data.shape"
      ],
      "metadata": {
        "colab": {
          "base_uri": "https://localhost:8080/"
        },
        "id": "ArT969HfHoP8",
        "outputId": "bcd9f165-93a0-4f5c-d263-f0d625a30587"
      },
      "execution_count": 6,
      "outputs": [
        {
          "output_type": "execute_result",
          "data": {
            "text/plain": [
              "(13, 4)"
            ]
          },
          "metadata": {},
          "execution_count": 6
        }
      ]
    },
    {
      "cell_type": "code",
      "source": [
        "# Extract the 'car model' column\n",
        "car_models = car_data[[\"Car Model\"]]\n",
        "# apply one- hot encoding\n",
        "one_hot_encoder = OneHotEncoder(sparse_output=False)\n",
        "one_hot_encoded = one_hot_encoder.fit_transform(car_models)\n",
        "# Convert one-hot encoding result to DataFrame\n",
        "one_hot_encoded_df = pd.DataFrame(one_hot_encoded, columns=one_hot_encoder.get_feature_names_out(['Car Model']))\n",
        "\n",
        "# Combine the one-hot encoded columns with the original data\n",
        "car_data_one_hot_encoded = pd.concat([car_data, one_hot_encoded_df], axis=1)\n",
        "\n",
        "# Display the one-hot encoded data\n",
        "print(\"\\nOne-Hot Encoded Data:\\n\", car_data_one_hot_encoded.head(14))"
      ],
      "metadata": {
        "colab": {
          "base_uri": "https://localhost:8080/"
        },
        "id": "JsG9L9qbHtI_",
        "outputId": "3640249c-8dc3-4605-c84b-f3d4001077b1"
      },
      "execution_count": 8,
      "outputs": [
        {
          "output_type": "stream",
          "name": "stdout",
          "text": [
            "\n",
            "One-Hot Encoded Data:\n",
            "                 Car Model  Mileage  Sell Price($)  Age(yrs)  \\\n",
            "0                  BMW X5    69000          18000         6   \n",
            "1                  BMW X5    35000          34000         3   \n",
            "2                  BMW X5    57000          26100         5   \n",
            "3                  BMW X5    22500          40000         2   \n",
            "4                  BMW X5    46000          31500         4   \n",
            "5                 Audi A5    59000          29400         5   \n",
            "6                 Audi A5    52000          32000         5   \n",
            "7                 Audi A5    72000          19300         6   \n",
            "8                 Audi A5    91000          12000         8   \n",
            "9   Mercedez Benz C class    67000          22000         6   \n",
            "10  Mercedez Benz C class    83000          20000         7   \n",
            "11  Mercedez Benz C class    79000          21000         7   \n",
            "12  Mercedez Benz C class    59000          33000         5   \n",
            "\n",
            "    Car Model_Audi A5  Car Model_BMW X5  Car Model_Mercedez Benz C class  \n",
            "0                 0.0               1.0                              0.0  \n",
            "1                 0.0               1.0                              0.0  \n",
            "2                 0.0               1.0                              0.0  \n",
            "3                 0.0               1.0                              0.0  \n",
            "4                 0.0               1.0                              0.0  \n",
            "5                 1.0               0.0                              0.0  \n",
            "6                 1.0               0.0                              0.0  \n",
            "7                 1.0               0.0                              0.0  \n",
            "8                 1.0               0.0                              0.0  \n",
            "9                 0.0               0.0                              1.0  \n",
            "10                0.0               0.0                              1.0  \n",
            "11                0.0               0.0                              1.0  \n",
            "12                0.0               0.0                              1.0  \n"
          ]
        }
      ]
    },
    {
      "cell_type": "code",
      "source": [
        "# Apply Label Encoding\n",
        "label_encoder = LabelEncoder()\n",
        "label_encoded = label_encoder.fit_transform(car_models['Car Model'])\n",
        "\n",
        "# Add the label encoded column to the original data\n",
        "car_data_label_encoded = car_data.copy()\n",
        "car_data_label_encoded['Car Model (Label Encoded)'] = label_encoded\n",
        "\n",
        "# Display the label encoded data\n",
        "print(\"\\nLabel Encoded Data:\\n\", car_data_label_encoded.head(14))\n"
      ],
      "metadata": {
        "colab": {
          "base_uri": "https://localhost:8080/"
        },
        "id": "WyVWvkKfIMUH",
        "outputId": "076dc28e-afea-425c-bb26-72fecd4eb640"
      },
      "execution_count": 9,
      "outputs": [
        {
          "output_type": "stream",
          "name": "stdout",
          "text": [
            "\n",
            "Label Encoded Data:\n",
            "                 Car Model  Mileage  Sell Price($)  Age(yrs)  \\\n",
            "0                  BMW X5    69000          18000         6   \n",
            "1                  BMW X5    35000          34000         3   \n",
            "2                  BMW X5    57000          26100         5   \n",
            "3                  BMW X5    22500          40000         2   \n",
            "4                  BMW X5    46000          31500         4   \n",
            "5                 Audi A5    59000          29400         5   \n",
            "6                 Audi A5    52000          32000         5   \n",
            "7                 Audi A5    72000          19300         6   \n",
            "8                 Audi A5    91000          12000         8   \n",
            "9   Mercedez Benz C class    67000          22000         6   \n",
            "10  Mercedez Benz C class    83000          20000         7   \n",
            "11  Mercedez Benz C class    79000          21000         7   \n",
            "12  Mercedez Benz C class    59000          33000         5   \n",
            "\n",
            "    Car Model (Label Encoded)  \n",
            "0                           1  \n",
            "1                           1  \n",
            "2                           1  \n",
            "3                           1  \n",
            "4                           1  \n",
            "5                           0  \n",
            "6                           0  \n",
            "7                           0  \n",
            "8                           0  \n",
            "9                           2  \n",
            "10                          2  \n",
            "11                          2  \n",
            "12                          2  \n"
          ]
        }
      ]
    },
    {
      "cell_type": "markdown",
      "source": [
        "**Choosing Between One-Hot and Label Encoding**\n",
        "\n",
        "* One-Hot Encoding is preferred when dealing with nominal data, where there is no ranking or order among the categories.\n",
        "* Label Encoding is suitable for ordinal data, where the categories have a natural order."
      ],
      "metadata": {
        "id": "6QyktpKtKlta"
      }
    },
    {
      "cell_type": "code",
      "source": [],
      "metadata": {
        "id": "rN1wqmSXKYti"
      },
      "execution_count": null,
      "outputs": []
    }
  ]
}