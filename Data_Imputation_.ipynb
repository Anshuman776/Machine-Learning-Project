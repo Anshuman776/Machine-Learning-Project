{
  "nbformat": 4,
  "nbformat_minor": 0,
  "metadata": {
    "colab": {
      "provenance": [],
      "authorship_tag": "ABX9TyOPYoyGXEfIxlaXnVMaL7KG",
      "include_colab_link": true
    },
    "kernelspec": {
      "name": "python3",
      "display_name": "Python 3"
    },
    "language_info": {
      "name": "python"
    }
  },
  "cells": [
    {
      "cell_type": "markdown",
      "metadata": {
        "id": "view-in-github",
        "colab_type": "text"
      },
      "source": [
        "<a href=\"https://colab.research.google.com/github/Anshuman776/Machine-Learning-Project/blob/main/Data_Imputation_.ipynb\" target=\"_parent\"><img src=\"https://colab.research.google.com/assets/colab-badge.svg\" alt=\"Open In Colab\"/></a>"
      ]
    },
    {
      "cell_type": "code",
      "execution_count": 9,
      "metadata": {
        "id": "83jLDHSk95e6"
      },
      "outputs": [],
      "source": [
        "import pandas as pd\n",
        "import numpy as np"
      ]
    },
    {
      "cell_type": "code",
      "source": [
        "# creating dummy data\n",
        "data = {'age': [25, np.nan, 30, np.nan, 35],\n",
        "        'salary': [50000, 60000, np.nan, 90000, np.nan]}\n",
        "\n",
        "dataframe = pd.DataFrame(data)\n",
        "print(dataframe)"
      ],
      "metadata": {
        "colab": {
          "base_uri": "https://localhost:8080/"
        },
        "id": "uJVCbh7n-JIL",
        "outputId": "c002349a-5864-40a4-e433-307e16238c16"
      },
      "execution_count": 10,
      "outputs": [
        {
          "output_type": "stream",
          "name": "stdout",
          "text": [
            "    age   salary\n",
            "0  25.0  50000.0\n",
            "1   NaN  60000.0\n",
            "2  30.0      NaN\n",
            "3   NaN  90000.0\n",
            "4  35.0      NaN\n"
          ]
        }
      ]
    },
    {
      "cell_type": "code",
      "source": [
        "# data imputation using Mean\n",
        "from sklearn.impute import SimpleImputer\n",
        "\n",
        "imputer = SimpleImputer(strategy='mean')\n",
        "imputed_data = imputer.fit_transform(dataframe)\n",
        "imputed_df = pd.DataFrame(imputed_data, columns=dataframe.columns)\n",
        "print(imputed_df)"
      ],
      "metadata": {
        "colab": {
          "base_uri": "https://localhost:8080/"
        },
        "id": "AZz6OanJ-lg0",
        "outputId": "4258e975-8ff2-44ec-b45a-c50d84acc03f"
      },
      "execution_count": 11,
      "outputs": [
        {
          "output_type": "stream",
          "name": "stdout",
          "text": [
            "    age        salary\n",
            "0  25.0  50000.000000\n",
            "1  30.0  60000.000000\n",
            "2  30.0  66666.666667\n",
            "3  30.0  90000.000000\n",
            "4  35.0  66666.666667\n"
          ]
        }
      ]
    },
    {
      "cell_type": "code",
      "source": [
        "# data imputation using knn\n",
        "from sklearn.impute import KNNImputer\n",
        "\n",
        "imputer = KNNImputer(n_neighbors=2)\n",
        "imputed_data = imputer.fit_transform(dataframe)\n",
        "imputed_df = pd.DataFrame(imputed_data, columns=dataframe.columns)\n",
        "print(imputed_df)"
      ],
      "metadata": {
        "colab": {
          "base_uri": "https://localhost:8080/"
        },
        "id": "nsWqLJZM-47E",
        "outputId": "4cd2ce34-97af-4909-f899-abe4dc7f0e03"
      },
      "execution_count": 13,
      "outputs": [
        {
          "output_type": "stream",
          "name": "stdout",
          "text": [
            "    age   salary\n",
            "0  25.0  50000.0\n",
            "1  25.0  60000.0\n",
            "2  30.0  50000.0\n",
            "3  25.0  90000.0\n",
            "4  35.0  50000.0\n"
          ]
        }
      ]
    },
    {
      "cell_type": "code",
      "source": [],
      "metadata": {
        "id": "8LIJ2Xlq_Aiy"
      },
      "execution_count": 12,
      "outputs": []
    }
  ]
}