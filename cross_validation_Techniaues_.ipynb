{
  "nbformat": 4,
  "nbformat_minor": 0,
  "metadata": {
    "colab": {
      "provenance": [],
      "authorship_tag": "ABX9TyPPUgPxGpNgvsl3FOSt9GOn",
      "include_colab_link": true
    },
    "kernelspec": {
      "name": "python3",
      "display_name": "Python 3"
    },
    "language_info": {
      "name": "python"
    }
  },
  "cells": [
    {
      "cell_type": "markdown",
      "metadata": {
        "id": "view-in-github",
        "colab_type": "text"
      },
      "source": [
        "<a href=\"https://colab.research.google.com/github/Anshuman776/Machine-Learning-Project/blob/main/cross_validation_Techniaues_.ipynb\" target=\"_parent\"><img src=\"https://colab.research.google.com/assets/colab-badge.svg\" alt=\"Open In Colab\"/></a>"
      ]
    },
    {
      "cell_type": "markdown",
      "source": [
        "**Why is Cross-Validation Important?**\n",
        "\n",
        "In machine learning, our goal is to build a model that performs well on new, unseen data, not just on the training data. Cross-validation helps in:\n",
        "\n",
        "* Generalization: Ensuring that the model performs well on different datasets.\n",
        "* Reducing Overfitting: Preventing the model from being too specific to the training data.\n",
        "* Low Variance: Achieving consistent performance across different datasets."
      ],
      "metadata": {
        "id": "pkV_0jmBb0SH"
      }
    },
    {
      "cell_type": "code",
      "execution_count": 1,
      "metadata": {
        "colab": {
          "base_uri": "https://localhost:8080/"
        },
        "id": "VAXr0iljblWg",
        "outputId": "f1f8d270-703a-4efe-d354-5194d4f4a964"
      },
      "outputs": [
        {
          "output_type": "stream",
          "name": "stdout",
          "text": [
            "k-Fold Cross-validation scores: [1.         0.96666667 0.93333333 0.93333333 0.96666667]\n",
            "Mean accuracy: 0.9600000000000002\n"
          ]
        }
      ],
      "source": [
        "#  practical implementation of k-Fold cross-validation\n",
        "import numpy as np\n",
        "from sklearn.datasets import load_iris\n",
        "from sklearn.model_selection import cross_val_score,KFold\n",
        "from sklearn.ensemble import RandomForestClassifier\n",
        "\n",
        "# load dataset\n",
        "iris = load_iris()\n",
        "x,y = iris.data,iris.target\n",
        "\n",
        "# create a randomforest classifier\n",
        "clf = RandomForestClassifier(random_state=42)\n",
        "\n",
        "# K-Fold cross-validation\n",
        "kfold = KFold(n_splits = 5, shuffle =True ,random_state = 42)\n",
        "scores = cross_val_score(clf,x,y,cv=kfold, scoring = 'accuracy')\n",
        "\n",
        "print(f\"k-Fold Cross-validation scores: {scores}\")\n",
        "print(f\"Mean accuracy: {np.mean(scores)}\")"
      ]
    },
    {
      "cell_type": "code",
      "source": [
        "# stratifiedKFold implmentation\n",
        "from sklearn.model_selection import StratifiedKFold\n",
        "iris = load_iris()\n",
        "X, y = iris.data, iris.target\n",
        "\n",
        "# randomforest\n",
        "clf = RandomForestClassifier(random_state=42)\n",
        "\n",
        "skf = StratifiedKFold(n_splits=5,random_state = 42, shuffle = True)\n",
        "scores = cross_val_score(clf,x,y,cv =skf , scoring = 'accuracy')\n",
        "\n",
        "print(f\"Stratified k-Fold Cross-validation scores: {scores}\")\n",
        "print(f'Mean accuracy: {np.mean(scores)}')\n"
      ],
      "metadata": {
        "colab": {
          "base_uri": "https://localhost:8080/"
        },
        "id": "hf4W3sbfeDSJ",
        "outputId": "2a56c265-f12b-4fac-a01f-9e39f926005b"
      },
      "execution_count": 2,
      "outputs": [
        {
          "output_type": "stream",
          "name": "stdout",
          "text": [
            "Stratified k-Fold Cross-validation scores: [0.96666667 0.96666667 0.93333333 0.96666667 0.9       ]\n",
            "Mean accuracy: 0.9466666666666667\n"
          ]
        }
      ]
    },
    {
      "cell_type": "markdown",
      "source": [
        "there are two leftout cv as per knowlege that i will implement\n",
        "* leave one out cv\n",
        "* hold out cv\n",
        "widely use cross-validation techinques is **KFOLD** only it is use widely in organization\n",
        "\n"
      ],
      "metadata": {
        "id": "jnkXpZpnkkz6"
      }
    },
    {
      "cell_type": "code",
      "source": [],
      "metadata": {
        "id": "4xVxABtMjlF1"
      },
      "execution_count": null,
      "outputs": []
    }
  ]
}